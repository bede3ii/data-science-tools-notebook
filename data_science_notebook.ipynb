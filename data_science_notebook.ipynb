{
 "cells": [
  {
   "cell_type": "markdown",
   "id": "7a8e53d1",
   "metadata": {},
   "source": [
    "Data science notebook"
   ]
  },
  {
   "cell_type": "markdown",
   "id": "2b326c65",
   "metadata": {},
   "source": [
    "Welcome to this data science notebook! In this notebook, we will explore various aspects of data science, including programming languages, libraries, tools, and basic arithmetic operations"
   ]
  },
  {
   "cell_type": "markdown",
   "id": "c31502a1",
   "metadata": {},
   "source": [
    "Python\n",
    "R\n",
    "SQL\n",
    "Julia\n",
    "Scala"
   ]
  },
  {
   "cell_type": "markdown",
   "id": "f8e5171f",
   "metadata": {},
   "source": [
    "NumPy\n",
    "Pandas\n",
    "Matplotlib\n",
    "Scikit-learn\n",
    "TensorFlow\n",
    "PyTorch"
   ]
  },
  {
   "cell_type": "markdown",
   "id": "724c7615",
   "metadata": {},
   "source": [
    "| Tools                                 |\n",
    "|---------------------------------------|\n",
    "| Pandas, dplyr, SQL, OpenRefine         |\n",
    "| Matplotlib, Seaborn, Plotly, ggplot2 |\n",
    "| Scikit-learn, TensorFlow, PyTorch     |\n",
    "| Hadoop, Spark, Hive, Pig              |\n",
    "\n"
   ]
  },
  {
   "cell_type": "markdown",
   "id": "80165251",
   "metadata": {},
   "source": [
    "Arithmetic expressions involve mathematical operations such as addition, subtraction, multiplication, and division."
   ]
  },
  {
   "cell_type": "code",
   "execution_count": 1,
   "id": "f0f44a8b",
   "metadata": {},
   "outputs": [
    {
     "name": "stdout",
     "output_type": "stream",
     "text": [
      "Multiplication result: 15\n",
      "Addition result: 8\n"
     ]
    }
   ],
   "source": [
    "a = 5\n",
    "b = 3\n",
    "multiply = a*b\n",
    "add = a+b\n",
    "\n",
    "print(\"Multiplication result:\", multiply)\n",
    "print(\"Addition result:\", add)\n"
   ]
  },
  {
   "cell_type": "code",
   "execution_count": 2,
   "id": "2493ec0f",
   "metadata": {},
   "outputs": [
    {
     "name": "stdout",
     "output_type": "stream",
     "text": [
      "Minutes: 150\n",
      "Hours: 2.5\n"
     ]
    }
   ],
   "source": [
    "minutes = 150\n",
    "hours = minutes / 60\n",
    "\n",
    "print(\"Minutes:\", minutes)\n",
    "print(\"Hours:\", hours)\n"
   ]
  },
  {
   "cell_type": "markdown",
   "id": "8d49d434",
   "metadata": {},
   "source": [
    "Understand the basics of data science.\n",
    "Explore different programming languages used in data science.\n",
    "Learn about popular data science libraries and their applications.\n",
    "Familiarize ourselves with various data science tools.\n",
    "Perform basic arithmetic operations using code.\n",
    "Convert units of time in data manipulation.\n",
    "Share the notebook through GitHub."
   ]
  },
  {
   "cell_type": "markdown",
   "id": "74085db2",
   "metadata": {},
   "source": [
    "Imen Ben Dai"
   ]
  }
 ],
 "metadata": {
  "kernelspec": {
   "display_name": "Python 3 (ipykernel)",
   "language": "python",
   "name": "python3"
  },
  "language_info": {
   "codemirror_mode": {
    "name": "ipython",
    "version": 3
   },
   "file_extension": ".py",
   "mimetype": "text/x-python",
   "name": "python",
   "nbconvert_exporter": "python",
   "pygments_lexer": "ipython3",
   "version": "3.9.13"
  }
 },
 "nbformat": 4,
 "nbformat_minor": 5
}
